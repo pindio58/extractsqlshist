{
 "cells": [
  {
   "cell_type": "code",
   "execution_count": 109,
   "id": "adbcd8af",
   "metadata": {},
   "outputs": [],
   "source": [
    "from pathlib import Path\n",
    "from xml.dom import minidom\n",
    "import datetime"
   ]
  },
  {
   "cell_type": "code",
   "execution_count": 110,
   "id": "d3714da9",
   "metadata": {},
   "outputs": [],
   "source": [
    "inputDir = Path.home().parent.parent.joinpath('/mnt/c/Users/pc/AppData/Roaming/SQL Developer/SqlHistory')\n",
    "outputfile = str(Path.home().parent.parent.joinpath('/mnt/d/allSqls.sql'))\n",
    "\n"
   ]
  },
  {
   "cell_type": "code",
   "execution_count": 116,
   "id": "9408d725",
   "metadata": {},
   "outputs": [],
   "source": [
    "with open(outputfile,'w') as f:\n",
    "    f.write(f'--====================================\\n-- Extracted at {timeNow} =\\n--====================================\\n\\n')        \n",
    "    for num, file in enumerate(list(inputDir.glob('*xml'))[::-1]):\n",
    "        doc = minidom.parse(str(file))\n",
    "        f.write(f'\\n\\n--=================================  {num}  ================================================\\n\\n')\n",
    "        f.write(doc.getElementsByTagName(\"sql\")[0].firstChild.data)             "
   ]
  },
  {
   "cell_type": "code",
   "execution_count": 106,
   "id": "77ba4336",
   "metadata": {},
   "outputs": [
    {
     "data": {
      "text/plain": [
       "str"
      ]
     },
     "execution_count": 106,
     "metadata": {},
     "output_type": "execute_result"
    }
   ],
   "source": [
    "type(timeNow)"
   ]
  },
  {
   "cell_type": "code",
   "execution_count": 91,
   "id": "553a2d2c",
   "metadata": {},
   "outputs": [
    {
     "data": {
      "text/plain": [
       "'04-Apr-2022-23:37:31'"
      ]
     },
     "execution_count": 91,
     "metadata": {},
     "output_type": "execute_result"
    }
   ],
   "source": []
  },
  {
   "cell_type": "code",
   "execution_count": 119,
   "id": "729682a7",
   "metadata": {},
   "outputs": [
    {
     "data": {
      "text/plain": [
       "PosixPath('/mnt/d/gitProjects/extractsqlshist')"
      ]
     },
     "execution_count": 119,
     "metadata": {},
     "output_type": "execute_result"
    }
   ],
   "source": [
    "Path.cwd()"
   ]
  },
  {
   "cell_type": "code",
   "execution_count": 121,
   "id": "ac66539e",
   "metadata": {},
   "outputs": [
    {
     "data": {
      "text/plain": [
       "'/allSqls.sql'"
      ]
     },
     "execution_count": 121,
     "metadata": {},
     "output_type": "execute_result"
    }
   ],
   "source": [
    "str(Path.cwd().joinpath('/allSqls.sql'))"
   ]
  },
  {
   "cell_type": "code",
   "execution_count": 124,
   "id": "642eb3fc",
   "metadata": {},
   "outputs": [
    {
     "data": {
      "text/plain": [
       "'/mnt/d/gitProjects/extractsqlshist/allsqls.sql'"
      ]
     },
     "execution_count": 124,
     "metadata": {},
     "output_type": "execute_result"
    }
   ],
   "source": [
    "str(Path.cwd().joinpath('allsqls.sql'))"
   ]
  },
  {
   "cell_type": "code",
   "execution_count": null,
   "id": "6dd58e12",
   "metadata": {},
   "outputs": [],
   "source": []
  }
 ],
 "metadata": {
  "kernelspec": {
   "display_name": "Python 3 (ipykernel)",
   "language": "python",
   "name": "python3"
  },
  "language_info": {
   "codemirror_mode": {
    "name": "ipython",
    "version": 3
   },
   "file_extension": ".py",
   "mimetype": "text/x-python",
   "name": "python",
   "nbconvert_exporter": "python",
   "pygments_lexer": "ipython3",
   "version": "3.9.7"
  }
 },
 "nbformat": 4,
 "nbformat_minor": 5
}
